{
 "cells": [
  {
   "cell_type": "markdown",
   "metadata": {},
   "source": [
    "# Basic Python Programs "
   ]
  },
  {
   "cell_type": "markdown",
   "metadata": {},
   "source": [
    "# 1 . Palindrome program"
   ]
  },
  {
   "cell_type": "code",
   "execution_count": 13,
   "metadata": {},
   "outputs": [
    {
     "name": "stdout",
     "output_type": "stream",
     "text": [
      "enter input string : madam\n",
      "string is palindrome\n"
     ]
    }
   ],
   "source": [
    "# way : 1 #using_string_slicing\n",
    "inp_str = input(\"enter input string : \")\n",
    "if(inp_str == inp_str[::-1]):\n",
    "    print(\"string is palindrome\")\n",
    "else:\n",
    "    print(\"string is not a palindrome\")"
   ]
  },
  {
   "cell_type": "code",
   "execution_count": 15,
   "metadata": {
    "scrolled": true
   },
   "outputs": [
    {
     "name": "stdout",
     "output_type": "stream",
     "text": [
      "enter input string : madam\n",
      "\n",
      "string is palindrome\n"
     ]
    }
   ],
   "source": [
    "# way 2 using *** for loop ******\n",
    "inp_str = input(\"enter input string : \")\n",
    "rev_str = \"\"\n",
    "for i in inp_str:\n",
    "    rev_str+=i\n",
    "print(\"\\nstring is palindrome\") if(inp_str==rev_str) else print(\"string is not a palindrome\")"
   ]
  },
  {
   "cell_type": "markdown",
   "metadata": {},
   "source": [
    "# 2 . Leap Year Program "
   ]
  },
  {
   "cell_type": "code",
   "execution_count": 16,
   "metadata": {},
   "outputs": [
    {
     "name": "stdout",
     "output_type": "stream",
     "text": [
      "Enter year : 2016\n",
      "2016 is a leap year\n"
     ]
    }
   ],
   "source": [
    "year = int(input(\"Enter year : \"))\n",
    "if((year%4==0) and ((year%100!=0)or(year%400==0))):\n",
    "   print(year,\"is a leap year\")\n",
    "else:\n",
    "   print(\"Not a leap Year\")"
   ]
  },
  {
   "cell_type": "markdown",
   "metadata": {},
   "source": [
    "# 3. Factorial Program "
   ]
  },
  {
   "cell_type": "code",
   "execution_count": 17,
   "metadata": {},
   "outputs": [
    {
     "name": "stdout",
     "output_type": "stream",
     "text": [
      "enter n value : 5\n",
      "5 factorial is : 120\n"
     ]
    }
   ],
   "source": [
    "# factorial prog using ***** recurrsion concept ***** \n",
    "\n",
    "def fact(n):\n",
    "    if(n==1 or n==0):\n",
    "        return 1\n",
    "    else:\n",
    "        return n*fact(n-1)\n",
    "\n",
    "n   = int(input(\"enter n value : \"))\n",
    "res = fact(n) \n",
    "print(n,\"factorial is :\",res)"
   ]
  },
  {
   "cell_type": "code",
   "execution_count": 18,
   "metadata": {},
   "outputs": [
    {
     "name": "stdout",
     "output_type": "stream",
     "text": [
      "enter n value : 6\n",
      "6 factorial is : 720\n"
     ]
    }
   ],
   "source": [
    "# factorial prog using using *****  for loop *******\n",
    "n   = int(input(\"enter n value : \"))\n",
    "res = 1\n",
    "if(n==0):\n",
    "    print(n,\"factorial is :\",res)\n",
    "else:\n",
    "    for i in range(1,n+1):\n",
    "        res*=i\n",
    "    print(n,\"factorial is :\",res)    "
   ]
  },
  {
   "cell_type": "markdown",
   "metadata": {},
   "source": [
    "# 4 . Reverse a Given Number"
   ]
  },
  {
   "cell_type": "code",
   "execution_count": 20,
   "metadata": {},
   "outputs": [
    {
     "name": "stdout",
     "output_type": "stream",
     "text": [
      "enter n value : 456\n",
      "Reversed Digit is :  654\n"
     ]
    }
   ],
   "source": [
    "n   = int(input(\"enter n value : \"))\n",
    "result = 0\n",
    "while(n>0):\n",
    "    rem    = n%10\n",
    "    result = result* 10+rem\n",
    "    n = n//10\n",
    "print(\"Reversed Digit is : \",result)"
   ]
  },
  {
   "cell_type": "markdown",
   "metadata": {},
   "source": [
    "# 5. Program to compute Power of a given number \n"
   ]
  },
  {
   "cell_type": "code",
   "execution_count": 27,
   "metadata": {},
   "outputs": [
    {
     "name": "stdout",
     "output_type": "stream",
     "text": [
      "Enter Base Value : 3\n",
      "Enter Expo Value : 3\n",
      "3 power 3 is : 27\n"
     ]
    }
   ],
   "source": [
    "# eg 2^3 = 8 ,3^3 = 27\n",
    "base = int(input(\"Enter Base Value : \"))\n",
    "expo = int(input(\"Enter Expo Value : \"))\n",
    "if(expo==0):\n",
    "    print(base,\"power\",expo,\"is :\",1)\n",
    "else:\n",
    "    res = 1\n",
    "    for i in range(1,expo+1):\n",
    "        res=res*base\n",
    "    print(base,\"power\",expo,\"is :\",res)    "
   ]
  },
  {
   "cell_type": "markdown",
   "metadata": {},
   "source": [
    "# 6. Program to compute Fibanacci Series within a given limit"
   ]
  },
  {
   "cell_type": "code",
   "execution_count": 40,
   "metadata": {},
   "outputs": [
    {
     "name": "stdout",
     "output_type": "stream",
     "text": [
      "enter limit : 15\n",
      "0\n",
      "1\n",
      "1\n",
      "2\n",
      "3\n",
      "5\n",
      "8\n",
      "13\n"
     ]
    }
   ],
   "source": [
    "limit   = int(input(\"enter limit : \"))\n",
    "a,b,c   = 0,1,0\n",
    "print(a,b,sep = \"\\n\")\n",
    "while(limit!=0):\n",
    "    c = a + b\n",
    "    a,b = b,c\n",
    "    if(c>limit):\n",
    "        break\n",
    "    else:\n",
    "        print(c)\n",
    "    "
   ]
  },
  {
   "cell_type": "markdown",
   "metadata": {},
   "source": [
    "# 7.Program to find whether a given number is prime num  or not "
   ]
  },
  {
   "cell_type": "code",
   "execution_count": 52,
   "metadata": {},
   "outputs": [
    {
     "name": "stdout",
     "output_type": "stream",
     "text": [
      "enter limit : 13\n",
      "13 is a prime number \n"
     ]
    }
   ],
   "source": [
    "# Note : 1 is not a prime number\n",
    "n   = int(input(\"enter limit : \"))\n",
    "cnt = 0\n",
    "for i in range(2,n+1):\n",
    "    if(n%i == 0):\n",
    "        cnt+=1\n",
    "print(n,\"is a prime number \") if(cnt==1) else print(n,\"is not a prime number \")        \n",
    "    "
   ]
  },
  {
   "cell_type": "markdown",
   "metadata": {},
   "source": [
    "# 8. Program to print prime number's with in  a given limit"
   ]
  },
  {
   "cell_type": "code",
   "execution_count": 56,
   "metadata": {},
   "outputs": [
    {
     "name": "stdout",
     "output_type": "stream",
     "text": [
      "enter limit : 15\n",
      "Prime num's in given range \n",
      "2\n",
      "3\n",
      "5\n",
      "7\n",
      "11\n",
      "13\n"
     ]
    }
   ],
   "source": [
    "# Note : 1 is not a prime number\n",
    "limit   = int(input(\"enter limit : \"))\n",
    "print(\"Prime num's in given range \")\n",
    "for i in range(2,limit+1):\n",
    "    cnt = 0\n",
    "    for j in range(i,1,-1):        \n",
    "        if(i%j == 0):\n",
    "            cnt+=1\n",
    "    if(cnt==1):\n",
    "        print(i)\n",
    "        "
   ]
  },
  {
   "cell_type": "markdown",
   "metadata": {},
   "source": [
    "# 9. Program to swap two number's"
   ]
  },
  {
   "cell_type": "code",
   "execution_count": 59,
   "metadata": {},
   "outputs": [
    {
     "name": "stdout",
     "output_type": "stream",
     "text": [
      "enter a : 4\n",
      "enter b : 5\n",
      "a and b before swapping : \n",
      "a is :  4\n",
      "b is :  5\n",
      "*********************************************\n",
      "a and b after swapping : \n",
      "a is :  5\n",
      "b is :  4\n"
     ]
    }
   ],
   "source": [
    "# without using third (temprory) variable\n",
    "a,b = int(input(\"enter a : \")),int(input(\"enter b : \"))\n",
    "print(\"a and b before swapping : \")\n",
    "print(\"a is : \",a)\n",
    "print(\"b is : \",b)\n",
    "a,b = b,a     #------------- simple logic -------------------#\n",
    "print(\"***\"*15)\n",
    "print(\"a and b after swapping : \")\n",
    "print(\"a is : \",a)\n",
    "print(\"b is : \",b)"
   ]
  },
  {
   "cell_type": "code",
   "execution_count": 60,
   "metadata": {},
   "outputs": [
    {
     "name": "stdout",
     "output_type": "stream",
     "text": [
      "enter a : 6\n",
      "enter b : 7\n",
      "a and b before swapping : \n",
      "a is :  6\n",
      "b is :  7\n",
      "*********************************************\n",
      "a and b after swapping : \n",
      "a is :  7\n",
      "b is :  6\n"
     ]
    }
   ],
   "source": [
    "# with using third (temp) variable\n",
    "a,b = int(input(\"enter a : \")),int(input(\"enter b : \"))\n",
    "print(\"a and b before swapping : \")\n",
    "print(\"a is : \",a)\n",
    "print(\"b is : \",b)\n",
    "temp = a\n",
    "a    = b\n",
    "b    = temp\n",
    "print(\"***\"*15)\n",
    "print(\"a and b after swapping : \")\n",
    "print(\"a is : \",a)\n",
    "print(\"b is : \",b)"
   ]
  },
  {
   "cell_type": "markdown",
   "metadata": {},
   "source": [
    "# 10. Program to find Max and Min number in a given list"
   ]
  },
  {
   "cell_type": "code",
   "execution_count": 70,
   "metadata": {},
   "outputs": [
    {
     "name": "stdout",
     "output_type": "stream",
     "text": [
      "Maximum of given list is : 687\n"
     ]
    }
   ],
   "source": [
    "# Note : we can also find maximum of given list using inbuilt max() func, eg : max(lst)  \n",
    "def find_max(lst):\n",
    "    maxx = 0\n",
    "    for i in lst:\n",
    "        if(i > maxx):\n",
    "            maxx = i\n",
    "    return maxx\n",
    "lst = [45,234,6,26,86,687,465]\n",
    "print(\"Maximum of given list is :\",find_max(lst))"
   ]
  },
  {
   "cell_type": "code",
   "execution_count": 71,
   "metadata": {},
   "outputs": [
    {
     "name": "stdout",
     "output_type": "stream",
     "text": [
      "Minimum of given  list is : 6\n"
     ]
    }
   ],
   "source": [
    "# Note : we can also find minimum of given list using inbuilt min() func, eg : min(lst)  \n",
    "def find_min(lst):\n",
    "    minn = lst[0] #intialize some random value to minn var.\n",
    "    for i in lst:\n",
    "        if(i < minn):\n",
    "            minn = i\n",
    "    return minn\n",
    "lst = [45,234,6,26,86,687,465]\n",
    "print(\"Minimum of given  list is :\",find_min(lst))"
   ]
  },
  {
   "cell_type": "markdown",
   "metadata": {},
   "source": [
    "# 11. Linear Search Program in Python"
   ]
  },
  {
   "cell_type": "code",
   "execution_count": 16,
   "metadata": {},
   "outputs": [
    {
     "name": "stdout",
     "output_type": "stream",
     "text": [
      "Enter the Key Value : 5\n",
      " 5 (Key) is found at list index 0\n"
     ]
    }
   ],
   "source": [
    "# note : list index starts from 0\n",
    "# Way 1\n",
    "key = int(input(\"Enter the Key Value : \"))\n",
    "flag = 0\n",
    "lst = [5,3,6,4,34,76,23,687,23] #assume this as  given list.\n",
    "for i in range(0,len(lst)):\n",
    "        if(key==lst[i]):\n",
    "            flag = 1\n",
    "            indx = i\n",
    "            break\n",
    "print(\" {} (Key) is found at list index {}\".format(key,indx)) if(flag==1) else print(\"Key is not found\")            \n"
   ]
  },
  {
   "cell_type": "code",
   "execution_count": 4,
   "metadata": {},
   "outputs": [
    {
     "name": "stdout",
     "output_type": "stream",
     "text": [
      "Enter the Key Value : 23\n",
      "Key is found\n"
     ]
    }
   ],
   "source": [
    "# Way 2 ,using in operator\n",
    "key = int(input(\"Enter the Key Value : \"))\n",
    "lst = [5,3,6,4,34,76,23,687,23]\n",
    "print(\"Key is found\") if(key in lst) else print(\"Key is not found\")  "
   ]
  },
  {
   "cell_type": "markdown",
   "metadata": {},
   "source": [
    "# 12. Binary Search Program"
   ]
  },
  {
   "cell_type": "code",
   "execution_count": 17,
   "metadata": {},
   "outputs": [
    {
     "name": "stdout",
     "output_type": "stream",
     "text": [
      "Enter List Items :  7 3 8 54 32 867 234\n",
      "Enter the Key Value : 8\n",
      "Sorted list : [3, 7, 8, 32, 54, 234, 867]\n",
      "Key is Found at list index Position  2\n"
     ]
    }
   ],
   "source": [
    "# note : list index starts from 0\n",
    "# read input array\n",
    "lst = list(map(int,input(\"Enter List Items :  \").split()))\n",
    "flag = 0\n",
    "key = int(input(\"Enter the Key Value : \"))\n",
    "# Note : For binary Search array Should be sorted .\n",
    "lst.sort()\n",
    "print(\"Sorted list :\",lst)\n",
    "low,high= 0,len(lst)-1\n",
    "mid = (low+high)//2\n",
    "while(low<=high):\n",
    "    mid = (low+high)//2\n",
    "    if(key == lst[mid]):\n",
    "        flag = 1\n",
    "        break\n",
    "    elif(key>lst[mid]):  \n",
    "        low = mid+1\n",
    "    elif(key<lst[mid]):\n",
    "        high = mid-1\n",
    "print(\"Key is Found at list index Position \",mid) if(flag == 1) else print(\"Key not found\")        "
   ]
  },
  {
   "cell_type": "markdown",
   "metadata": {},
   "source": [
    "# 13. Binary To Decimal Program"
   ]
  },
  {
   "cell_type": "code",
   "execution_count": 14,
   "metadata": {},
   "outputs": [
    {
     "name": "stdout",
     "output_type": "stream",
     "text": [
      "Enter Binary Input : 1111\n",
      "Decimal Output  :  15\n"
     ]
    }
   ],
   "source": [
    "bin_inp = int(input(\"Enter Binary Input : \"))\n",
    "dec_out,i = 0,0\n",
    "\n",
    "while(bin_inp>0):\n",
    "    rem = bin_inp%2\n",
    "    dec_out = dec_out + pow(2,i) *rem\n",
    "    i+=1\n",
    "    bin_inp//=10\n",
    "print(\"Decimal Output  : \",dec_out)    "
   ]
  },
  {
   "cell_type": "markdown",
   "metadata": {},
   "source": [
    "# 14.Decimal To Binary Program"
   ]
  },
  {
   "cell_type": "code",
   "execution_count": 7,
   "metadata": {},
   "outputs": [
    {
     "name": "stdout",
     "output_type": "stream",
     "text": [
      "Enter Decimal Input :12\n",
      "Binary Output Is : 1100\n"
     ]
    }
   ],
   "source": [
    "dec_inp = int(input(\"Enter Decimal Input :\"))\n",
    "bin_out = \"\"\n",
    "while(dec_inp>0):\n",
    "    rem     = dec_inp%2\n",
    "    bin_out = bin_out+str(rem)\n",
    "    dec_inp = dec_inp//2\n",
    "print(\"Binary Output Is :\",int(bin_out[::-1]))"
   ]
  },
  {
   "cell_type": "markdown",
   "metadata": {},
   "source": [
    "# 15 Program toFind out whether a Given Number is Even or Odd "
   ]
  },
  {
   "cell_type": "code",
   "execution_count": 11,
   "metadata": {},
   "outputs": [
    {
     "name": "stdout",
     "output_type": "stream",
     "text": [
      "Enter n value : 1\n",
      "1 is odd number\n"
     ]
    }
   ],
   "source": [
    "n = int(input(\"Enter n value : \"))\n",
    "print(n,\"is even number\") if(n%2==0) else print(n,\"is odd number\")"
   ]
  },
  {
   "cell_type": "markdown",
   "metadata": {},
   "source": [
    "# 16 Python program to find the average of best two marks out of three marks taken as input."
   ]
  },
  {
   "cell_type": "code",
   "execution_count": 2,
   "metadata": {},
   "outputs": [
    {
     "name": "stdout",
     "output_type": "stream",
     "text": [
      "Enter Test 1 Marks : 12\n",
      "Enter Test 2 Marks : 12\n",
      "Enter Test 3 Marks : 11\n",
      "Average of Best Two Tests is 12 \n"
     ]
    }
   ],
   "source": [
    "t1 = int(input(\"Enter Test 1 Marks : \"))\n",
    "t2 = int(input(\"Enter Test 2 Marks : \"))\n",
    "t3 = int(input(\"Enter Test 3 Marks : \"))\n",
    "min_val = min(t1,t2,t3)\n",
    "avg = ((t1+t2+t3)-min_val)//2\n",
    "print(\"Average of Best Two Tests is {} \".format(avg))"
   ]
  },
  {
   "cell_type": "markdown",
   "metadata": {},
   "source": [
    "## 17 A positive integer m is a sum of squares if it can be written as k + x where k > 0, x > 0 and both k and x are perfect squares. Write a Python function sumofsquares(m) that takes an integer m and produces the value that are the sum of squares of the given m else display The is no Sum of Sqaured value for given m."
   ]
  },
  {
   "cell_type": "code",
   "execution_count": 16,
   "metadata": {},
   "outputs": [
    {
     "name": "stdout",
     "output_type": "stream",
     "text": [
      "Enter m value 41\n",
      "Sum of Squares of 4 and 5 is : 41\n",
      "Sum of Squares of 5 and 4 is : 41\n"
     ]
    }
   ],
   "source": [
    "# sumofsquares(41) eg : Sum of Squares of 4 and 5 is : 41\n",
    "# sumofsquares(30) eg : The is no Sum of Sqaured value for 30\n",
    "\n",
    "\n",
    "\n",
    "def sum_of_squares(m):\n",
    "    # take sqrt of m\n",
    "    flag = 0\n",
    "    sqrt_m = m**0.5\n",
    "    limit  = int(sqrt_m)\n",
    "    for i in range(1,limit+1):\n",
    "        for j in range(limit,0,-1):\n",
    "            if((i**2+j**2)==m):\n",
    "                flag = 1\n",
    "                print(\"Sum of Squares of {} and {} is : {}\".format(i,j,m))\n",
    "    if(flag==0):\n",
    "        print(\"The is no Sum of Sqaured value for {} \".format(m))\n",
    "sum_of_squares(int(input(\"Enter m value \")))"
   ]
  },
  {
   "cell_type": "markdown",
   "metadata": {},
   "source": [
    "# 18 Write a program to display all the palindrome words appearing in an input text.\n"
   ]
  },
  {
   "cell_type": "code",
   "execution_count": 24,
   "metadata": {},
   "outputs": [
    {
     "name": "stdout",
     "output_type": "stream",
     "text": [
      "Enter input text :gadag there she malayalam\n",
      "palindrome_word_lists : ['gadag', 'malayalam']\n"
     ]
    }
   ],
   "source": [
    "inp_text = input(\"Enter input text :\")\n",
    "words_list = inp_text.split(\" \")\n",
    "palindrome_word_lists  = [word  for word in words_list if(word==word[::-1])]\n",
    "print(\"palindrome_word_lists : {}\".format(palindrome_word_lists))"
   ]
  },
  {
   "cell_type": "markdown",
   "metadata": {},
   "source": [
    "# 19 Write a program to count the frequency of characters in a string."
   ]
  },
  {
   "cell_type": "code",
   "execution_count": 18,
   "metadata": {},
   "outputs": [
    {
     "name": "stdout",
     "output_type": "stream",
     "text": [
      "Enter String : hello world\n",
      "Enter Character : l\n",
      "Count of l is  : 3 \n"
     ]
    }
   ],
   "source": [
    "# using inbuilt count() func\n",
    "inp_text  = input(\"Enter String : \")\n",
    "char      = input(\"Enter Character : \")\n",
    "freq = inp_text.count(char)\n",
    "print(\"Count of {} is  : {} \".format(char,freq))"
   ]
  },
  {
   "cell_type": "markdown",
   "metadata": {},
   "source": [
    "# 20 Write a Python function to get a string made of the first 2 and the last 2 chars from a given string. If the string length is less than 2, return empty string, otherwise return new string created."
   ]
  },
  {
   "cell_type": "code",
   "execution_count": 1,
   "metadata": {},
   "outputs": [
    {
     "name": "stdout",
     "output_type": "stream",
     "text": [
      "Enter String :  morning\n",
      "output string :  mong\n"
     ]
    }
   ],
   "source": [
    "def form_str(s):\n",
    "    if(len(s)<2):\n",
    "        return []\n",
    "    else:\n",
    "        return s[0:2]+s[-2:]\n",
    "print(\"output string : \",form_str(input(\"Enter String :  \")))"
   ]
  },
  {
   "cell_type": "markdown",
   "metadata": {},
   "source": [
    "## 21 Write a Python program to add 'ing' at the end of a given string (length should be atleast 3). If the given string already ends with 'ing' then add 'ly' instead. If the string length of the given string is less than 3, leave it unchanged    "
   ]
  },
  {
   "cell_type": "code",
   "execution_count": 9,
   "metadata": {},
   "outputs": [
    {
     "name": "stdout",
     "output_type": "stream",
     "text": [
      "enter input string : string\n",
      "output string  is  : strly\n"
     ]
    }
   ],
   "source": [
    "# Sample String : 'abc' Expected Result : 'abcing'\n",
    "# Sample String : 'string' Expected Result : 'strly‘\n",
    "\n",
    "\n",
    "def form_str(s):\n",
    "    if(len(s)<3):\n",
    "        return s\n",
    "    elif(s[-3:]==\"ing\"):\n",
    "        return s[0:len(s)-3]+\"ly\"\n",
    "    else:\n",
    "        return s+\"ing\"\n",
    "\n",
    "inp_str = input(\"enter input string : \")\n",
    "print(\"output string  is  : {}\".format(form_str(inp_str)))"
   ]
  },
  {
   "cell_type": "markdown",
   "metadata": {},
   "source": [
    "# 22 Write a program to perform simulation of simple calculator for basic operations like (+,-,*,%)\n"
   ]
  },
  {
   "cell_type": "code",
   "execution_count": 10,
   "metadata": {},
   "outputs": [
    {
     "name": "stdout",
     "output_type": "stream",
     "text": [
      "Enter Num1 :4\n",
      "Enter Num2 :3\n",
      "Enter Operator :+\n",
      "Result of 4 + 3 is : 7 \n"
     ]
    }
   ],
   "source": [
    "def calculator(n1,n2,opr):\n",
    "    if(opr==\"+\"):\n",
    "        return n1+n2\n",
    "    elif(opr==\"-\"):\n",
    "        return n1-n2\n",
    "    if(opr==\"%\"):\n",
    "        return n1%n2\n",
    "    if(opr==\"//\"):\n",
    "        return n1//n2\n",
    "    \n",
    "n1  = int(input(\"Enter Num1 :\")) \n",
    "n2  = int(input(\"Enter Num2 :\")) \n",
    "opr = input(\"Enter Operator :\")\n",
    "res = calculator(n1,n2,opr)\n",
    "print(\"Result of {} {} {} is : {} \".format(n1,opr,n2,res))"
   ]
  },
  {
   "cell_type": "markdown",
   "metadata": {},
   "source": [
    "# 23 Program to convert given string into list of words"
   ]
  },
  {
   "cell_type": "code",
   "execution_count": 12,
   "metadata": {},
   "outputs": [
    {
     "name": "stdout",
     "output_type": "stream",
     "text": [
      "Enter String : hi there i am Suresh\n",
      "Our list is :  ['hi', 'there', 'i', 'am', 'Suresh']\n"
     ]
    }
   ],
   "source": [
    "inp_str  = input(\"Enter String : \")\n",
    "out_list = inp_str.split(\" \") \n",
    "print(\"Our list is : \",out_list)    "
   ]
  },
  {
   "cell_type": "markdown",
   "metadata": {},
   "source": [
    "# 24  Program to convert given list of words into string"
   ]
  },
  {
   "cell_type": "code",
   "execution_count": 17,
   "metadata": {},
   "outputs": [
    {
     "name": "stdout",
     "output_type": "stream",
     "text": [
      "our list is :  ['hi', 'there', 'i', 'am', 'Suresh']\n",
      "Output String is :  hi there i am Suresh \n"
     ]
    }
   ],
   "source": [
    "my_list  = ['hi', 'there', 'i', 'am', 'Suresh']\n",
    "print(\"our list is : \",my_list)\n",
    "out_str = \"\"\n",
    "for i in my_list:\n",
    "    out_str += i+\" \"\n",
    "print(\"Output String is : \",out_str)    "
   ]
  },
  {
   "cell_type": "markdown",
   "metadata": {},
   "source": [
    "# 25 H.C.F (GCD) Program"
   ]
  },
  {
   "cell_type": "code",
   "execution_count": 19,
   "metadata": {},
   "outputs": [
    {
     "name": "stdout",
     "output_type": "stream",
     "text": [
      "Enter Num1 : 17\n",
      "Enter Num2 : 3\n",
      "HCF of 17 and 3 is 1 :\n"
     ]
    }
   ],
   "source": [
    "def find_gcd(n1,n2):\n",
    "    if(n1==n2):\n",
    "        return n1\n",
    "    else:\n",
    "        if(n1<n2):\n",
    "            small = n1\n",
    "        else:\n",
    "            small = n2\n",
    "            \n",
    "        for i in range(1,small+1):\n",
    "            if((n1%i==0)and(n2%i==0)):\n",
    "                hcf = i \n",
    "        return  hcf      \n",
    "n1  = int(input(\"Enter Num1 : \")) \n",
    "n2  = int(input(\"Enter Num2 : \"))\n",
    "res = find_gcd(n1,n2)\n",
    "print(\"HCF of {} and {} is {} :\".format(n1,n2,res))"
   ]
  },
  {
   "cell_type": "markdown",
   "metadata": {},
   "source": [
    "# 26 L.C.M Program "
   ]
  },
  {
   "cell_type": "code",
   "execution_count": 21,
   "metadata": {},
   "outputs": [
    {
     "name": "stdout",
     "output_type": "stream",
     "text": [
      "Enter Num1 : 4\n",
      "Enter Num2 : 6\n",
      "LCM of 4 and 6 is : 12\n"
     ]
    }
   ],
   "source": [
    "\n",
    "def find_lcm(n1,n2):\n",
    "    if(n1==n2):\n",
    "        return n1\n",
    "    else:\n",
    "        if(n1>n2):\n",
    "            big = n1\n",
    "        else:\n",
    "            big = n2\n",
    "        while True:\n",
    "            if((big%n1==0) and (big%n2==0)):\n",
    "                lcm = big\n",
    "                break\n",
    "            big+=1    \n",
    "        return lcm     \n",
    "                \n",
    "\n",
    "n1  = int(input(\"Enter Num1 : \")) \n",
    "n2  = int(input(\"Enter Num2 : \"))\n",
    "res = find_lcm(n1,n2)\n",
    "print(\"LCM of {} and {} is : {}\".format(n1,n2,res))"
   ]
  },
  {
   "cell_type": "code",
   "execution_count": null,
   "metadata": {},
   "outputs": [],
   "source": []
  }
 ],
 "metadata": {
  "kernelspec": {
   "display_name": "Python 3",
   "language": "python",
   "name": "python3"
  },
  "language_info": {
   "codemirror_mode": {
    "name": "ipython",
    "version": 3
   },
   "file_extension": ".py",
   "mimetype": "text/x-python",
   "name": "python",
   "nbconvert_exporter": "python",
   "pygments_lexer": "ipython3",
   "version": "3.7.1"
  }
 },
 "nbformat": 4,
 "nbformat_minor": 2
}
